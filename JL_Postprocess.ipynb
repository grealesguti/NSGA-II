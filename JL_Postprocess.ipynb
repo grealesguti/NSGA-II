{
 "cells": [
  {
   "cell_type": "code",
   "execution_count": 2,
   "id": "7d20bba4-e258-4280-b42b-1c4089a9ced0",
   "metadata": {
    "tags": []
   },
   "outputs": [
    {
     "name": "stdout",
     "output_type": "stream",
     "text": [
      "Welcome to JupyROOT 6.26/10\n"
     ]
    }
   ],
   "source": [
    "from Postprocess_functions import *"
   ]
  },
  {
   "cell_type": "code",
   "execution_count": 1,
   "id": "854b8678-2dcc-4422-b469-a3ce095046ae",
   "metadata": {
    "tags": []
   },
   "outputs": [],
   "source": [
    "# Fill the class with the required inputs:\n",
    "\n",
    "class ArgValues:\n",
    "    def __init__(self):\n",
    "        #self.folder = \"G11_objLC_Acte_YSym_SiMPmatch6mm_68Evts_Spline_23-02-06\"\n",
    "        #self.folder = \"Acte_23-01-18_Continuation\"\n",
    "        #self.folder = \"G11_objLC_Acte_YSym_SiMPmatch6mm_68Evts_Spline_23-02-09\"\n",
    "        self.folder =\"G11_objLC_Acte_NoYSym_SiMPmatch3_375mm_68Evts_Spline_23-02-12\"\n",
    "        self.folder =\"G11_objLC_Acte_NoYSym_SiMPrefl_375x3_68Evts_Spline_23-02-12\"\n",
    "        self.generation = 7\n",
    "        self.Ysym = 1\n",
    "        self.LYSOL = 1\n",
    "        self.save = 1\n",
    "        self.Shape = 0\n",
    "        self.ParetoFrontier = 0\n",
    "        self.Filter = 1\n",
    "        self.LaunchIndv = 0\n",
    "args0=ArgValues()"
   ]
  },
  {
   "cell_type": "code",
   "execution_count": 3,
   "id": "9a5cf105-4207-46df-987a-d0fedb3deb83",
   "metadata": {
    "tags": []
   },
   "outputs": [
    {
     "name": "stdout",
     "output_type": "stream",
     "text": [
      "Initializations\n",
      "pictures/ROOT/G11_objLC_Acte_NoYSym_SiMPrefl_375x3_68Evts_Spline_23-02-12/Shape/ created.\n",
      "pictures/ROOT/G11_objLC_Acte_NoYSym_SiMPrefl_375x3_68Evts_Spline_23-02-12/Pareto/ created.\n",
      "pictures/ROOT/G11_objLC_Acte_NoYSym_SiMPrefl_375x3_68Evts_Spline_23-02-12/Filter/ created.\n",
      "pictures/ROOT/G11_objLC_Acte_NoYSym_SiMPrefl_375x3_68Evts_Spline_23-02-12/Filter/Shape_gen7/ created.\n",
      "### Initializations END\n"
     ]
    },
    {
     "data": {
      "text/plain": [
       "'ROOT/G11_objLC_Acte_NoYSym_SiMPrefl_375x3_68Evts_Spline_23-02-12/NSGAII_7.root'"
      ]
     },
     "execution_count": 3,
     "metadata": {},
     "output_type": "execute_result"
    }
   ],
   "source": [
    "gen, gen_file, NSGA_files, root_folder, pictures_folder, pictures_folder_pareto, pictures_folder_filter, pictures_folder_filter_shape= Initialization(args0)\n",
    "gen_file"
   ]
  },
  {
   "cell_type": "code",
   "execution_count": 4,
   "id": "4642035e-d368-48ac-8a28-b7c6993d869f",
   "metadata": {
    "tags": []
   },
   "outputs": [],
   "source": [
    "### get all root results for gen\n",
    "ind_obj=get_branch_values(gen_file, \"tObjectives\", \"ind\")\n",
    "val_obj=get_branch_values(gen_file, \"tObjectives\", \"objectives\")\n",
    "ind_vars=get_branch_values(gen_file, \"tPopulation\", \"ind\")\n",
    "val_vars=get_branch_values(gen_file, \"tPopulation\", \"features\")\n",
    "ind_front=get_branch_values(gen_file, \"tFronts\", \"ind\")\n",
    "val_front=get_branch_values(gen_file, \"tFronts\", \"rank\")"
   ]
  },
  {
   "cell_type": "code",
   "execution_count": 5,
   "id": "f3fb2737-b371-49a9-a234-7994022994c3",
   "metadata": {
    "tags": []
   },
   "outputs": [
    {
     "data": {
      "text/plain": [
       "[17, 183]"
      ]
     },
     "execution_count": 5,
     "metadata": {},
     "output_type": "execute_result"
    }
   ],
   "source": [
    "[i for i,x in enumerate(ind_front) if x==102] # => [1, 3]"
   ]
  },
  {
   "cell_type": "code",
   "execution_count": 6,
   "id": "9ba68109-4643-4f6b-af06-b96b2bceaccb",
   "metadata": {
    "tags": []
   },
   "outputs": [
    {
     "data": {
      "text/plain": [
       "[191.0,\n",
       " 163.0,\n",
       " 197.0,\n",
       " 183.0,\n",
       " 197.0,\n",
       " 133.0,\n",
       " 190.0,\n",
       " 193.0,\n",
       " 155.0,\n",
       " 163.0,\n",
       " 143.0,\n",
       " 139.0,\n",
       " 199.0,\n",
       " 179.0,\n",
       " 197.0,\n",
       " 189.0,\n",
       " 153.0,\n",
       " 102.0,\n",
       " 189.0,\n",
       " 121.0,\n",
       " 128.0,\n",
       " 167.0,\n",
       " 104.0,\n",
       " 139.0,\n",
       " 159.0,\n",
       " 160.0,\n",
       " 160.0,\n",
       " 154.0,\n",
       " 166.0,\n",
       " 194.0,\n",
       " 68.0,\n",
       " 110.0,\n",
       " 154.0,\n",
       " 122.0,\n",
       " 196.0,\n",
       " 174.0,\n",
       " 108.0,\n",
       " 129.0,\n",
       " 131.0,\n",
       " 132.0,\n",
       " 144.0,\n",
       " 146.0,\n",
       " 151.0,\n",
       " 163.0,\n",
       " 165.0,\n",
       " 176.0,\n",
       " 181.0,\n",
       " 183.0,\n",
       " 188.0,\n",
       " 189.0,\n",
       " 190.0,\n",
       " 193.0,\n",
       " 197.0,\n",
       " 201.0,\n",
       " 147.0,\n",
       " 127.0,\n",
       " 125.0,\n",
       " 130.0,\n",
       " 143.0,\n",
       " 133.0,\n",
       " 141.0,\n",
       " 183.0,\n",
       " 137.0,\n",
       " 126.0,\n",
       " 195.0,\n",
       " 72.0,\n",
       " 103.0,\n",
       " 179.0,\n",
       " 192.0,\n",
       " 141.0,\n",
       " 127.0,\n",
       " 136.0,\n",
       " 114.0,\n",
       " 144.0,\n",
       " 153.0,\n",
       " 104.0,\n",
       " 138.0,\n",
       " 164.0,\n",
       " 196.0,\n",
       " 168.0,\n",
       " 182.0,\n",
       " 188.0,\n",
       " 200.0,\n",
       " 151.0,\n",
       " 179.0,\n",
       " 135.0,\n",
       " 115.0,\n",
       " 122.0,\n",
       " 123.0,\n",
       " 153.0,\n",
       " 183.0,\n",
       " 167.0,\n",
       " 135.0,\n",
       " 143.0,\n",
       " 199.0,\n",
       " 119.0,\n",
       " 178.0,\n",
       " 155.0,\n",
       " 137.0,\n",
       " 149.0,\n",
       " 173.0,\n",
       " 142.0,\n",
       " 0.0,\n",
       " 149.0,\n",
       " 125.0,\n",
       " 169.0,\n",
       " 135.0,\n",
       " 162.0,\n",
       " 172.0,\n",
       " 132.0,\n",
       " 175.0,\n",
       " 193.0,\n",
       " 119.0,\n",
       " 151.0,\n",
       " 111.0,\n",
       " 201.0,\n",
       " 174.0,\n",
       " 160.0,\n",
       " 133.0,\n",
       " 127.0,\n",
       " 119.0,\n",
       " 200.0,\n",
       " 111.0,\n",
       " 137.0,\n",
       " 173.0,\n",
       " 200.0,\n",
       " 112.0,\n",
       " 170.0,\n",
       " 184.0,\n",
       " 186.0,\n",
       " 192.0,\n",
       " 124.0,\n",
       " 184.0,\n",
       " 164.0,\n",
       " 116.0,\n",
       " 112.0,\n",
       " 110.0,\n",
       " 172.0,\n",
       " 185.0,\n",
       " 181.0,\n",
       " 201.0,\n",
       " 161.0,\n",
       " 182.0,\n",
       " 141.0,\n",
       " 169.0,\n",
       " 146.0,\n",
       " 109.0,\n",
       " 167.0,\n",
       " 167.0,\n",
       " 156.0,\n",
       " 181.0,\n",
       " 108.0,\n",
       " 145.0,\n",
       " 180.0,\n",
       " 117.0,\n",
       " 109.0,\n",
       " 179.0,\n",
       " 198.0,\n",
       " 140.0,\n",
       " 117.0,\n",
       " 138.0,\n",
       " 194.0,\n",
       " 106.0,\n",
       " 178.0,\n",
       " 104.0,\n",
       " 162.0,\n",
       " 171.0,\n",
       " 123.0,\n",
       " 118.0,\n",
       " 153.0,\n",
       " 121.0,\n",
       " 139.0,\n",
       " 120.0,\n",
       " 134.0,\n",
       " 150.0,\n",
       " 131.0,\n",
       " 154.0,\n",
       " 113.0,\n",
       " 105.0,\n",
       " 124.0,\n",
       " 145.0,\n",
       " 103.0,\n",
       " 158.0,\n",
       " 102.0,\n",
       " 148.0,\n",
       " 177.0,\n",
       " 187.0,\n",
       " 133.0,\n",
       " 120.0,\n",
       " 159.0,\n",
       " 128.0,\n",
       " 166.0,\n",
       " 149.0,\n",
       " 157.0,\n",
       " 191.0,\n",
       " 116.0,\n",
       " 152.0,\n",
       " 142.0,\n",
       " 107.0,\n",
       " 136.0]"
      ]
     },
     "execution_count": 6,
     "metadata": {},
     "output_type": "execute_result"
    }
   ],
   "source": [
    "ind_front"
   ]
  },
  {
   "cell_type": "code",
   "execution_count": null,
   "id": "7255ac4e-3091-4b6d-b105-b2b43deff596",
   "metadata": {},
   "outputs": [],
   "source": [
    "\t### Number of variables\n",
    "\tnum_vars = ind_vars.count(1)\t# number of design variables per individual\n",
    "\tnum_indv = int(max(ind_vars))\t# number of individuals\n",
    "\tmin_indvidx=min(ind_vars)\n",
    "\tif(min_indvidx==0):\n",
    "\t\tnum_indv+=1\n",
    "\n",
    "\tprint(\"The number of vars per indv is :\" + str(num_vars))\n",
    "\tprint(\"The number indv is :\" + str(num_indv))\n",
    "\n",
    "\t### get each individual objective for gen\n",
    "\tobj1=[val_obj[i] for i in range(len(val_obj)) if i % 2 == 0]\t# LC\n",
    "\tobj2=[val_obj[i] for i in range(len(val_obj)) if i % 2 == 1]\t# Vol\n",
    "\n",
    "\t### get each individual variables for gen\n",
    "\tind_simpl = [i*num_vars for i in range(num_indv)]\n",
    "\tvars_tuple=[]\n",
    "\tfor i in range(num_indv-1):\n",
    "\t\tlstvars=val_vars[ind_simpl[i]:ind_simpl[i+1]]\n",
    "\t\tvars_tuple.append(lstvars)"
   ]
  },
  {
   "cell_type": "code",
   "execution_count": 7,
   "id": "cc52ab1c-08ff-460f-ae6d-61852157f807",
   "metadata": {
    "tags": []
   },
   "outputs": [
    {
     "data": {
      "text/plain": [
       "['ROOT/G11_objLC_Acte_NoYSym_SiMPmatch3_375mm_68Evts_Spline_23-02-12/NSGAII_0.root',\n",
       " 'ROOT/G11_objLC_Acte_NoYSym_SiMPmatch3_375mm_68Evts_Spline_23-02-12/NSGAII_1.root',\n",
       " 'ROOT/G11_objLC_Acte_NoYSym_SiMPmatch3_375mm_68Evts_Spline_23-02-12/NSGAII_2.root',\n",
       " 'ROOT/G11_objLC_Acte_NoYSym_SiMPmatch3_375mm_68Evts_Spline_23-02-12/NSGAII_3.root',\n",
       " 'ROOT/G11_objLC_Acte_NoYSym_SiMPmatch3_375mm_68Evts_Spline_23-02-12/NSGAII_4.root',\n",
       " 'ROOT/G11_objLC_Acte_NoYSym_SiMPmatch3_375mm_68Evts_Spline_23-02-12/NSGAII_5.root',\n",
       " 'ROOT/G11_objLC_Acte_NoYSym_SiMPmatch3_375mm_68Evts_Spline_23-02-12/NSGAII_6.root',\n",
       " 'ROOT/G11_objLC_Acte_NoYSym_SiMPmatch3_375mm_68Evts_Spline_23-02-12/NSGAII_7.root',\n",
       " 'ROOT/G11_objLC_Acte_NoYSym_SiMPmatch3_375mm_68Evts_Spline_23-02-12/NSGAII_8.root',\n",
       " 'ROOT/G11_objLC_Acte_NoYSym_SiMPmatch3_375mm_68Evts_Spline_23-02-12/NSGAII_9.root',\n",
       " 'ROOT/G11_objLC_Acte_NoYSym_SiMPmatch3_375mm_68Evts_Spline_23-02-12/NSGAII_10.root',\n",
       " 'ROOT/G11_objLC_Acte_NoYSym_SiMPmatch3_375mm_68Evts_Spline_23-02-12/NSGAII_11.root',\n",
       " 'ROOT/G11_objLC_Acte_NoYSym_SiMPmatch3_375mm_68Evts_Spline_23-02-12/NSGAII_12.root',\n",
       " 'ROOT/G11_objLC_Acte_NoYSym_SiMPmatch3_375mm_68Evts_Spline_23-02-12/NSGAII_13.root',\n",
       " 'ROOT/G11_objLC_Acte_NoYSym_SiMPmatch3_375mm_68Evts_Spline_23-02-12/NSGAII_14.root',\n",
       " 'ROOT/G11_objLC_Acte_NoYSym_SiMPmatch3_375mm_68Evts_Spline_23-02-12/NSGAII_15.root',\n",
       " 'ROOT/G11_objLC_Acte_NoYSym_SiMPmatch3_375mm_68Evts_Spline_23-02-12/NSGAII_16.root']"
      ]
     },
     "execution_count": 7,
     "metadata": {},
     "output_type": "execute_result"
    }
   ],
   "source": [
    "NSGA_files"
   ]
  },
  {
   "cell_type": "code",
   "execution_count": 8,
   "id": "2866e229-e20a-4818-b224-0c9b05d431ad",
   "metadata": {
    "tags": []
   },
   "outputs": [
    {
     "name": "stdout",
     "output_type": "stream",
     "text": [
      "### Pareto Frontier\n",
      "Generation:  0\n",
      "The number of vars per indv is :11\n",
      "The number indv is :200\n"
     ]
    },
    {
     "data": {
      "text/plain": [
       "(84.23932637302383, 1081.0339304584234)"
      ]
     },
     "execution_count": 8,
     "metadata": {},
     "output_type": "execute_result"
    },
    {
     "data": {
      "image/png": "[encoded data removed]",
      "text/plain": [
       "<Figure size 640x480 with 1 Axes>"
      ]
     },
     "metadata": {},
     "output_type": "display_data"
    }
   ],
   "source": [
    "print('### Pareto Frontier')\n",
    "ims=[]\n",
    "fig1, ax1 = plt.subplots()\n",
    "plt.grid()\n",
    "#plt.xlim([-20000, -2000])\n",
    "#plt.ylim([200, 900])\n",
    "# specifying horizontal line type\n",
    "plt.axhline(y = 3*3*28.5*2, color = 'k', linestyle = '--')\n",
    "plt.axhline(y = 2.4*3*28.5*2, color = 'k', linestyle = '--')\n",
    "plt.axhline(y = 3.75*3*28.5*2, color = 'k', linestyle = '--')\n",
    "g=0\n",
    "#try:\n",
    "print(\"Generation: \",g )\n",
    "# Get required input for plotting the crystal shapes\n",
    "num_indv,num_vars,obj1,obj2,vars_tuple,lstvars = GetRootVariables(NSGA_files[len(NSGA_files)-1])\n",
    "ax1.scatter(obj1,obj2)\n",
    "ax1.set_xlabel('Light Collection [-ph]')\n",
    "ax1.set_ylabel('Volume [mm³]')\n",
    "ax1.set_xlim([min(obj1)*1.5, max(obj1)*0.8])\n",
    "ax1.set_ylim([min(obj2)*0.5, max(obj2)*1.1])"
   ]
  },
  {
   "cell_type": "code",
   "execution_count": null,
   "id": "162d782a-725e-4aef-ba07-175e30a61a58",
   "metadata": {},
   "outputs": [],
   "source": []
  },
  {
   "cell_type": "code",
   "execution_count": 7,
   "id": "867185c3-a7c3-427d-aab3-98d8f870d09b",
   "metadata": {
    "tags": []
   },
   "outputs": [
    {
     "name": "stdout",
     "output_type": "stream",
     "text": [
      "### Filter - PF\n",
      "The number of vars per indv is :11\n",
      "The number indv is :200\n",
      "[0, 1, 2, 3, 4, 161, 5, 149, 163, 7, 8, 9, 10, 11, 12, 13, 14, 15, 127, 17, 179, 19, 20, 186, 23, 130, 24, 25, 26, 27, 28, 29, 30, 195, 34, 35, 36, 37, 38, 39, 40, 41, 42, 174, 188, 44, 45, 46, 47, 48, 49, 106]\n"
     ]
    },
    {
     "data": {
      "image/png": "[encoded data removed]",
      "text/plain": [
       "<Figure size 640x480 with 1 Axes>"
      ]
     },
     "metadata": {},
     "output_type": "display_data"
    }
   ],
   "source": [
    "\t##############\n",
    "\t### FILTER ###\n",
    "\t##############\n",
    "print('### Filter - PF')\n",
    "fig1, ax1 = plt.subplots()\n",
    "\n",
    "def plt_filtered_PF(fig1,ax1,gen_file):\n",
    "    # Get required input for plotting the crystal shapes\n",
    "    num_indv,num_vars,obj1,obj2,vars_tuple,lstvars = GetRootVariables(gen_file)\n",
    "    obj1f,obj2f,idxf=filter_values(obj1,obj2,10)\n",
    "    print(idxf)\n",
    "    plt.grid()\n",
    "    ax1.set_xlabel('Light Collection [-ph]')\n",
    "    ax1.set_ylabel('Volume [mm³]')\n",
    "    plt.axhline(y = 3*3*28.5*2, color = 'k', linestyle = '--')\n",
    "    plt.axhline(y = 2.4*3*28.5*2, color = 'k', linestyle = '--')\n",
    "    plt.axhline(y = 3.75*3*28.5*2, color = 'k', linestyle = '--')\n",
    "    ax1.set_xlim([min(obj1f)*1.1, max(obj1f)*0.9])\n",
    "    ax1.set_ylim([min(obj2f)*0.5, max(obj2f)*1.1])\n",
    "    ax1.scatter(obj1f,obj2f)\n",
    "\n",
    "plt_filtered_PF(fig1,ax1,gen_file)\n",
    "plt.show()"
   ]
  },
  {
   "cell_type": "code",
   "execution_count": 13,
   "id": "071bf0c5-2c42-4354-9b82-54d000f93181",
   "metadata": {
    "tags": []
   },
   "outputs": [
    {
     "name": "stdout",
     "output_type": "stream",
     "text": [
      "The number of vars per indv is :11\n",
      "The number indv is :200\n",
      "523.6686868496996   -10837.477611940298   -20.695294341803578\n",
      "521.5007574688225   33   -11152.283582089553   -21.384980601406475\n",
      "565.5209403976244   -11373.119402985074   -20.110872278201583\n",
      "[20.175811853157654, 1.2351303730586263, 0.6522777754721438, 0.6627709051976828, 1.0362374735115834, 0.7063195525722734, 1.4440312670198643, 1.442475038484608, 1.6622429152181375, 0.26189873107411127, 1.5177746106337389]\n",
      "NoYSym\n",
      "LYSOL\n",
      "vars:  195   [20.175811853157654, 1.2351303730586263, 0.6522777754721438, 0.6627709051976828, 1.0362374735115834, 0.7063195525722734, 1.4440312670198643, 1.442475038484608, 1.6622429152181375, 0.26189873107411127, 1.5177746106337389]\n",
      "n_vars:  11\n",
      "[-20.175811853157654, -15.13185888986824, -10.087905926578827, -5.043952963289414, 0.0, 5.043952963289414, 10.087905926578827, 15.13185888986824, 20.175811853157654]\n",
      "[1.8526955595879393, 0.9784166632082157, 0.9941563577965242, 1.554356210267375, 1.0594793288584101, 1.554356210267375, 0.9941563577965242, 0.9784166632082157, 1.8526955595879393]\n",
      "[-20.175811853157654, -15.13185888986824, -10.087905926578827, -5.043952963289414, 0.0, 5.043952963289414, 10.087905926578827, 15.13185888986824, 20.175811853157654]\n",
      "[-2.166046900529796, -2.163712557726912, -2.493364372827206, -0.39284809661116693, -2.2766619159506085, -0.39284809661116693, -2.493364372827206, -2.163712557726912, -2.166046900529796]\n"
     ]
    },
    {
     "data": {
      "image/png": "[encoded data removed]",
      "text/plain": [
       "<Figure size 640x480 with 1 Axes>"
      ]
     },
     "metadata": {},
     "output_type": "display_data"
    }
   ],
   "source": [
    "# Get required input for plotting the crystal shapes\n",
    "num_indv,num_vars,obj1,obj2,vars_tuple,lstvars = GetRootVariables(gen_file)\n",
    "obj1f,obj2f,idxf=filter_values(obj1,obj2,20)\n",
    "closest, closest_index=closest_value(obj2f,521)\n",
    "print(obj2f[closest_index-1],' ', obj1f[closest_index-1],' ',obj1f[closest_index-1]/obj2f[closest_index-1])\n",
    "print(closest,' ' ,closest_index,' ', obj1f[closest_index],' ',obj1f[closest_index]/obj2f[closest_index])\n",
    "print(obj2f[closest_index+1],' ', obj1f[closest_index+1],' ',obj1f[closest_index+1]/obj2f[closest_index+1])\n",
    "original_idx = idxf[closest_index]\n",
    "print(vars_tuple[original_idx])\n",
    "\n",
    "Zhalf=28.5\n",
    "Yhalf=1.5\n",
    "#with original_idx as indv:\t### optional variable arguments\n",
    "indv = original_idx\n",
    "### get spline control points for different scenarions\n",
    "args=args0\n",
    "if(args.Ysym==1):\n",
    "\tprint(\"NoYSym\")\n",
    "\tif (args.LYSOL==1):\n",
    "\t\tprint(\"LYSOL\")\n",
    "\t\t#print(\"Length:\",vars_tuple)\n",
    "\t\txtop,ytop,xbot,ybot = SplinePts_NoYSym_L(num_vars-1,vars_tuple,Yhalf,indv)\n",
    "\telse:\n",
    "\t\txtop,ytop,xbot,ybot = SplinePts_NoYSym(num_vars,vars_tuple,Zhalf,Yhalf,indv)\t\t\t\t\n",
    "else:\n",
    "\tprint(\"YSym\")\n",
    "\tif (args.LYSOL==1):\n",
    "\t\tprint(\"LYSOL\")\n",
    "\t\t#print(\"Length:\",vars_tuple)\n",
    "\t\txtop,ytop,xbot,ybot = SplinePts_YSym_L(num_vars-1,vars_tuple,Yhalf,indv)\n",
    "\telse:\n",
    "\t\txtop,ytop,xbot,ybot = SplinePts_YSym(num_vars,vars_tuple,Yhalf,Zhalf,indv)\n",
    "\n",
    "### plot and save\t\n",
    "#try:\n",
    "print(\"vars: \",indv,\" \",vars_tuple[indv])\n",
    "print(\"n_vars: \",num_vars)\n",
    "print(xtop)\n",
    "print(ytop)\n",
    "print(xbot)\n",
    "print(ybot)\n",
    "fig1, ax1 = plt.subplots()\n",
    "Plt_Crystal(xtop,ytop,xbot,ybot,fig1,ax1)\t\n",
    "plt.show()"
   ]
  },
  {
   "cell_type": "code",
   "execution_count": null,
   "id": "650c12d1-b7bd-4d2f-beb8-370e823db2e6",
   "metadata": {
    "tags": []
   },
   "outputs": [],
   "source": [
    "\tif(args.save==1):\n",
    "\t\t\timagename=\"LYSO_Vol_\"+str(round(obj2[indv],1))+\"_LC_\"+str(round(abs(obj1[indv]),1))\n",
    "\t\t\tsave_name=pictures_folder_filter+imagename\n",
    "\t\t\tprint(save_name)\n",
    "\t\t\tplt.savefig(save_name, format='png', dpi=300, bbox_inches='tight')\n",
    "\t\"\"\"except:\n",
    "\t\timagename=\"LYSO_Vol_\"+str(round(obj2[indv],1))+\"_LC_\"+str(round(abs(obj1[indv]),1))\n",
    "\t\tprint(\"### ERROR: \",pictures_folder_filter+imagename)*/\t\t\"\"\""
   ]
  },
  {
   "cell_type": "code",
   "execution_count": null,
   "id": "ed1cb3e5-439f-4a93-95e0-dcb2be152157",
   "metadata": {},
   "outputs": [],
   "source": []
  },
  {
   "cell_type": "code",
   "execution_count": null,
   "id": "b5c2efba-b584-4988-9d18-72103ad66c38",
   "metadata": {},
   "outputs": [],
   "source": []
  }
 ],
 "metadata": {
  "kernelspec": {
   "display_name": "Python 3 (ipykernel)",
   "language": "python",
   "name": "python3"
  },
  "language_info": {
   "codemirror_mode": {
    "name": "ipython",
    "version": 3
   },
   "file_extension": ".py",
   "mimetype": "text/x-python",
   "name": "python",
   "nbconvert_exporter": "python",
   "pygments_lexer": "ipython3",
   "version": "3.9.16"
  }
 },
 "nbformat": 4,
 "nbformat_minor": 5
}

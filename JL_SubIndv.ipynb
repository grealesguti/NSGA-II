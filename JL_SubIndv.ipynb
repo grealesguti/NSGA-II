{
 "cells": [
  {
   "cell_type": "code",
   "execution_count": 1,
   "id": "20d4246a-7083-47d8-ab8b-a244c6e13163",
   "metadata": {
    "tags": []
   },
   "outputs": [
    {
     "name": "stdout",
     "output_type": "stream",
     "text": [
      "Welcome to JupyROOT 6.26/10\n"
     ]
    }
   ],
   "source": [
    "from Postprocess_functions import *"
   ]
  },
  {
   "cell_type": "code",
   "execution_count": 2,
   "id": "b98807f0-d872-46eb-8bf8-d7472a99a79e",
   "metadata": {
    "tags": []
   },
   "outputs": [],
   "source": [
    "import gmsh\n",
    "import sys\n",
    "import os\n",
    "from os.path import exists\n",
    "import subprocess\n",
    "import numpy as np\n",
    "import time\n",
    "import ROOT\n",
    "from os import listdir\n",
    "from os.path import isfile, join\n",
    "import os.path\n",
    "from os import path\n",
    "import matplotlib.pyplot as plt\n",
    "import matplotlib.animation as animation\n",
    "import argparse\n",
    "from ROOT import TFile, TTree\n",
    "import matplotlib.pyplot as plt\n",
    "from scipy.interpolate import splrep, splev,splprep\n",
    "from scipy.interpolate import BSpline\n",
    "import math\n",
    "def Initialization_Mult(args):\n",
    "    print('Initializations')\n",
    "    gen=[]\n",
    "    gen_file=[]\n",
    "    NSGA_files=[]\n",
    "    root_folder=[]\n",
    "    pictures_folder=[]\n",
    "    pictures_folder_pareto=[]\n",
    "    pictures_folder_filter=[]\n",
    "    pictures_folder_filter_shape=[]\n",
    "    \n",
    "    c=0\n",
    "    for fol in args.folder:\n",
    "        root_folder.append(fol)\n",
    "        gen.append(args.generation[c])\n",
    "        print(gen)\n",
    "        folder_path='ROOT/'+root_folder[c] # add path to ROOT/\n",
    "        rf=os.listdir(folder_path)\t\t# get all files in the folder\n",
    "        NSGA_filenames = find_strings_containing_substring(rf, 'NSGAII_') # Get all root files\n",
    "        print(rf)\n",
    "        NSGA_filenames=sort_strings_by_int(NSGA_filenames)\n",
    "        prefix = folder_path+'/'\n",
    "        NSGA_files.append([prefix+s for s in NSGA_filenames])\n",
    "        print(str(gen[c]))\n",
    "        gen_file.append(folder_path+'/'+find_strings_containing_substring(rf, str(gen[c]))[0]) # Get last generation file or given gen.\n",
    "        print('pictures/ROOT/'+root_folder[c]+'/Shape/')\n",
    "        pictures_folder.append('pictures/ROOT/'+root_folder[c]+'/Shape/')\n",
    "        print(pictures_folder)\n",
    "        pictures_folder_pareto.append('pictures/ROOT/'+root_folder[c]+'/Pareto/')\n",
    "        pictures_folder_filter.append('pictures/ROOT/'+root_folder[c]+'/Filter/')\n",
    "        pictures_folder_filter_shape.append('pictures/ROOT/'+root_folder[c]+'/Filter/Shape_gen'+str(gen[c])+'/')\n",
    "\n",
    "        create_folder(pictures_folder[c])  # Create required folders to store pictures\n",
    "        create_folder(pictures_folder_pareto[c])  # Create required folders to store pictures\n",
    "        create_folder(pictures_folder_filter[c])  # Create required folders to store pictures\n",
    "        create_folder(pictures_folder_filter_shape[c])  # Create required folders to store pictures\n",
    "        c+=1\n",
    "        print('### Initializations END')\n",
    "    return gen, gen_file, NSGA_files, root_folder, pictures_folder, pictures_folder_pareto, pictures_folder_filter, pictures_folder_filter_shape\n"
   ]
  },
  {
   "cell_type": "code",
   "execution_count": 3,
   "id": "40b47605-5d59-4ba2-9f91-6e3d6c0daaf9",
   "metadata": {
    "tags": []
   },
   "outputs": [
    {
     "name": "stdout",
     "output_type": "stream",
     "text": [
      "Initializations\n",
      "[13]\n",
      "['NSGAII_3.root', 'NSGAII_11.root', 'NSGAII_2.root', 'NSGAII_0.root', 'NSGAII_5.root', 'NSGAII_12.root', 'NSGAII_8.root', 'NSGAII_7.root', 'NSGAII_13.root', 'NSGAII_4.root', 'NSGAII_9.root', 'NSGAII_10.root', 'NSGAII_1.root', 'NSGAII_6.root']\n",
      "13\n",
      "pictures/ROOT/G11_objLC_Acte_NoYSym_SiMP_375x3_68Evts_Spline_23-02-12/Shape/\n",
      "['pictures/ROOT/G11_objLC_Acte_NoYSym_SiMP_375x3_68Evts_Spline_23-02-12/Shape/']\n",
      "pictures/ROOT/G11_objLC_Acte_NoYSym_SiMP_375x3_68Evts_Spline_23-02-12/Shape/ already exists.\n",
      "pictures/ROOT/G11_objLC_Acte_NoYSym_SiMP_375x3_68Evts_Spline_23-02-12/Pareto/ already exists.\n",
      "pictures/ROOT/G11_objLC_Acte_NoYSym_SiMP_375x3_68Evts_Spline_23-02-12/Filter/ already exists.\n",
      "pictures/ROOT/G11_objLC_Acte_NoYSym_SiMP_375x3_68Evts_Spline_23-02-12/Filter/Shape_gen13/ already exists.\n",
      "### Initializations END\n",
      "[13, 16]\n",
      "['NSGAII_3.root', 'NSGAII_14.root', 'NSGAII_11.root', 'NSGAII_2.root', 'NSGAII_0.root', 'NSGAII_5.root', 'NSGAII_12.root', 'NSGAII_16.root', 'NSGAII_8.root', 'NSGAII_7.root', 'NSGAII_13.root', 'NSGAII_4.root', 'NSGAII_9.root', 'NSGAII_10.root', 'NSGAII_1.root', 'NSGAII_6.root', 'NSGAII_15.root']\n",
      "16\n",
      "pictures/ROOT/G11_objLC_Acte_NoYSym_SiMPmatch3_375mm_68Evts_Spline_23-02-12/Shape/\n",
      "['pictures/ROOT/G11_objLC_Acte_NoYSym_SiMP_375x3_68Evts_Spline_23-02-12/Shape/', 'pictures/ROOT/G11_objLC_Acte_NoYSym_SiMPmatch3_375mm_68Evts_Spline_23-02-12/Shape/']\n",
      "pictures/ROOT/G11_objLC_Acte_NoYSym_SiMPmatch3_375mm_68Evts_Spline_23-02-12/Shape/ already exists.\n",
      "pictures/ROOT/G11_objLC_Acte_NoYSym_SiMPmatch3_375mm_68Evts_Spline_23-02-12/Pareto/ already exists.\n",
      "pictures/ROOT/G11_objLC_Acte_NoYSym_SiMPmatch3_375mm_68Evts_Spline_23-02-12/Filter/ already exists.\n",
      "pictures/ROOT/G11_objLC_Acte_NoYSym_SiMPmatch3_375mm_68Evts_Spline_23-02-12/Filter/Shape_gen16/ already exists.\n",
      "### Initializations END\n",
      "[13, 16, 9]\n",
      "['NSGAII_3.root', 'NSGAII_2.root', 'NSGAII_0.root', 'NSGAII_5.root', 'NSGAII_8.root', 'NSGAII_7.root', 'NSGAII_4.root', 'NSGAII_9.root', 'NSGAII_1.root', 'NSGAII_6.root']\n",
      "9\n",
      "pictures/ROOT/G11_objLC_Acte_NoYSym_SiMPmatch3_6mm_68Evts_Spline_23-02-12/Shape/\n",
      "['pictures/ROOT/G11_objLC_Acte_NoYSym_SiMP_375x3_68Evts_Spline_23-02-12/Shape/', 'pictures/ROOT/G11_objLC_Acte_NoYSym_SiMPmatch3_375mm_68Evts_Spline_23-02-12/Shape/', 'pictures/ROOT/G11_objLC_Acte_NoYSym_SiMPmatch3_6mm_68Evts_Spline_23-02-12/Shape/']\n",
      "pictures/ROOT/G11_objLC_Acte_NoYSym_SiMPmatch3_6mm_68Evts_Spline_23-02-12/Shape/ already exists.\n",
      "pictures/ROOT/G11_objLC_Acte_NoYSym_SiMPmatch3_6mm_68Evts_Spline_23-02-12/Pareto/ already exists.\n",
      "pictures/ROOT/G11_objLC_Acte_NoYSym_SiMPmatch3_6mm_68Evts_Spline_23-02-12/Filter/ already exists.\n",
      "pictures/ROOT/G11_objLC_Acte_NoYSym_SiMPmatch3_6mm_68Evts_Spline_23-02-12/Filter/Shape_gen9/ already exists.\n",
      "### Initializations END\n"
     ]
    },
    {
     "data": {
      "text/plain": [
       "['ROOT/G11_objLC_Acte_NoYSym_SiMP_375x3_68Evts_Spline_23-02-12/NSGAII_13.root',\n",
       " 'ROOT/G11_objLC_Acte_NoYSym_SiMPmatch3_375mm_68Evts_Spline_23-02-12/NSGAII_16.root',\n",
       " 'ROOT/G11_objLC_Acte_NoYSym_SiMPmatch3_6mm_68Evts_Spline_23-02-12/NSGAII_9.root']"
      ]
     },
     "execution_count": 3,
     "metadata": {},
     "output_type": "execute_result"
    }
   ],
   "source": [
    "# Fill the class with the required inputs:\n",
    "class ArgValues:\n",
    "    def __init__(self):\n",
    "        self.folder = [\"G11_objLC_Acte_NoYSym_SiMP_375x3_68Evts_Spline_23-02-12\",\n",
    "                       \"G11_objLC_Acte_NoYSym_SiMPmatch3_375mm_68Evts_Spline_23-02-12\",\n",
    "                       \"G11_objLC_Acte_NoYSym_SiMPmatch3_6mm_68Evts_Spline_23-02-12\"]\n",
    "        #self.folder = \"G11_objLC_Acte_YSym_SiMPmatch6mm_68Evts_Spline_23-02-09\"\n",
    "        #self.folder =\"G11_objLC_Acte_NoYSym_SiMPmatch3_6mm_68Evts_Spline_23-02-12\"\n",
    "        self.generation = [13,16,9]\n",
    "        self.Ysym = [1,1,1]\n",
    "        self.LYSOL = [1,1,1]\n",
    "        self.save = 1\n",
    "        self.Shape = 0\n",
    "        self.ParetoFrontier = 0\n",
    "        self.Filter = 1\n",
    "        self.LaunchIndv = 0\n",
    "        self.RootN = ['SiPM_375x3',\n",
    "                     'SiPM_375xW',\n",
    "                     'SiPM_600xW']\n",
    "        self.Vol = '513'\n",
    "        self.Job = ['JobActionNSGATestGmshPostv1.sh',\n",
    "                   'JobActionNSGATestGmshPostv2.sh',\n",
    "                   'JobActionNSGATestGmshPostv3.sh']\n",
    "        self.Subname = [\"G11_objLC_Acte_NoYSym_SiMP_375x3_68Evts_Spline\",\n",
    "                       \"G11_objLC_Acte_NoYSym_SiMPmatch3_375mm_Spline\",\n",
    "                       \"G11_objLC_Acte_NoYSym_SiMPmatch3_6mm_Spline\"]\n",
    "        \n",
    "args0=ArgValues()\n",
    "gen, gen_file, NSGA_files, root_folder, pictures_folder, pictures_folder_pareto, pictures_folder_filter, pictures_folder_filter_shape= Initialization_Mult(args0)\n",
    "gen_file\n",
    "#gen, gen_file, root_folder, pictures_folder, pictures_folder_pareto, pictures_folder_filter, pictures_folder_filter_shape = Initialization(args0)"
   ]
  },
  {
   "cell_type": "code",
   "execution_count": 4,
   "id": "21125e0b-102e-431e-8e8a-5b97288f1fa2",
   "metadata": {
    "tags": []
   },
   "outputs": [
    {
     "name": "stdout",
     "output_type": "stream",
     "text": [
      "The number of vars per indv is :11\n",
      "The number indv is :200\n",
      "498.7815055011589   -17176.582089552237   -34.43708698118986\n",
      "506.73282788592627   37   -17271.880597014926   -34.08478718276982\n",
      "528.1266467877984   -17831.925373134327   -33.76448713881919\n",
      "[19.284790246337817, 1.4484276945408063, 0.877611939143067, 0.81328296769828, 0.9090685863907878, 0.4888075010139012, 1.5638231524332074, 1.4994677337606848, 0.8784721445418151, 0.7377692055370719, 0.9620441894750561]\n",
      "NoYSym\n",
      "LYSOL\n",
      "vars:  148   [19.284790246337817, 1.4484276945408063, 0.877611939143067, 0.81328296769828, 0.9090685863907878, 0.4888075010139012, 1.5638231524332074, 1.4994677337606848, 0.8784721445418151, 0.7377692055370719, 0.9620441894750561]\n",
      "n_vars:  11\n",
      "[-19.284790246337817, -14.463592684753362, -9.642395123168908, -4.821197561584455, 0.0, 4.821197561584455, 9.642395123168907, 14.463592684753362, 19.284790246337817]\n",
      "[2.1726415418112097, 1.3164179087146004, 1.2199244515474201, 1.3636028795861816, 0.7332112515208518, 1.3636028795861816, 1.2199244515474201, 1.3164179087146004, 2.1726415418112097]\n",
      "[-19.284790246337817, -14.463592684753362, -9.642395123168908, -4.821197561584455, 0.0, 4.821197561584455, 9.642395123168907, 14.463592684753362, 19.284790246337817]\n",
      "[-2.345734728649811, -2.249201600641027, -1.3177082168127225, -1.1066538083056079, -1.443066284212584, -1.1066538083056079, -1.3177082168127225, -2.249201600641027, -2.345734728649811]\n"
     ]
    },
    {
     "data": {
      "image/png": "[encoded data removed]",
      "text/plain": [
       "<Figure size 640x480 with 1 Axes>"
      ]
     },
     "metadata": {},
     "output_type": "display_data"
    }
   ],
   "source": [
    "# Get required input for plotting the crystal shapes\n",
    "idx=2\n",
    "num_indv,num_vars,obj1,obj2,vars_tuple,lstvars = GetRootVariables(gen_file[idx])\n",
    "obj1f,obj2f,idxf=filter_values(obj1,obj2,20)\n",
    "closest, closest_index=closest_value(obj2f,int(args0.Vol))\n",
    "print(obj2f[closest_index-1],' ', obj1f[closest_index-1],' ',obj1f[closest_index-1]/obj2f[closest_index-1])\n",
    "print(closest,' ' ,closest_index,' ', obj1f[closest_index],' ',obj1f[closest_index]/obj2f[closest_index])\n",
    "print(obj2f[closest_index+1],' ', obj1f[closest_index+1],' ',obj1f[closest_index+1]/obj2f[closest_index+1])\n",
    "original_idx = idxf[closest_index]\n",
    "print(vars_tuple[original_idx])\n",
    "\n",
    "Zhalf=28.5\n",
    "Yhalf=1.5\n",
    "#with original_idx as indv:\t### optional variable arguments\n",
    "indv = original_idx\n",
    "### get spline control points for different scenarions\n",
    "args=args0\n",
    "if(args.Ysym[idx]==1):\n",
    "\tprint(\"NoYSym\")\n",
    "\tif (args.LYSOL[idx]==1):\n",
    "\t\tprint(\"LYSOL\")\n",
    "\t\t#print(\"Length:\",vars_tuple)\n",
    "\t\txtop,ytop,xbot,ybot = SplinePts_NoYSym_L(num_vars-1,vars_tuple,Yhalf,indv)\n",
    "\telse:\n",
    "\t\txtop,ytop,xbot,ybot = SplinePts_NoYSym(num_vars,vars_tuple,Zhalf,Yhalf,indv)\t\t\t\t\n",
    "else:\n",
    "\tprint(\"YSym\")\n",
    "\tif (args.LYSOL[idx]==1):\n",
    "\t\tprint(\"LYSOL\")\n",
    "\t\t#print(\"Length:\",vars_tuple)\n",
    "\t\txtop,ytop,xbot,ybot = SplinePts_YSym_L(num_vars-1,vars_tuple,Yhalf,indv)\n",
    "\telse:\n",
    "\t\txtop,ytop,xbot,ybot = SplinePts_YSym(num_vars,vars_tuple,Yhalf,Zhalf,indv)\n",
    "\n",
    "### plot and save\t\n",
    "#try:\n",
    "print(\"vars: \",indv,\" \",vars_tuple[indv])\n",
    "print(\"n_vars: \",num_vars)\n",
    "print(xtop)\n",
    "print(ytop)\n",
    "print(xbot)\n",
    "print(ybot)\n",
    "fig1, ax1 = plt.subplots()\n",
    "Plt_Crystal(xtop,ytop,xbot,ybot,fig1,ax1)\t\n",
    "plt.show()"
   ]
  },
  {
   "cell_type": "code",
   "execution_count": 7,
   "id": "6988d61e-90cf-40ff-bd9d-fa9343141b7b",
   "metadata": {
    "tags": []
   },
   "outputs": [
    {
     "name": "stdout",
     "output_type": "stream",
     "text": [
      "### Writting Sub File:\n",
      "### Writting Sub File:\n",
      "### Writting Sub File:\n"
     ]
    }
   ],
   "source": [
    "for idx in [0,1,2]:\n",
    "    SubWrite(vars_tuple[original_idx], 50, \n",
    "             math.ceil(obj2f[closest_index]), \n",
    "             args0.RootN[idx], args0.generation[idx],\n",
    "             JobName=args0.Job[idx],\n",
    "             SubName = 'GC13_'+str(args0.generation[idx])+'_Vol_'+str(args0.Vol)+args0.Subname[idx],\n",
    "             LYSOL=True)\n",
    "#SubLaunch(gen)"
   ]
  },
  {
   "cell_type": "markdown",
   "id": "ae4d492c-39f4-412e-a3a1-8fcd7732f857",
   "metadata": {},
   "source": [
    "# Standard configuration Subfile creation"
   ]
  },
  {
   "cell_type": "code",
   "execution_count": 6,
   "id": "08a5ff46-2d21-471b-b083-d2bf29c0ff82",
   "metadata": {
    "tags": []
   },
   "outputs": [
    {
     "name": "stdout",
     "output_type": "stream",
     "text": [
      "### Writting Sub File:\n",
      "### Writting Sub File:\n",
      "### Writting Sub File:\n",
      "### Writting Sub File:\n",
      "### Writting Sub File:\n",
      "### Writting Sub File:\n"
     ]
    }
   ],
   "source": [
    "SubWrite([1,1], 50, 513, \"Rst_\", 0, JobName='JobActionGC13mmResin.sh', SubName = 'SubFile_SingleSiPM_Na', LYSOL=False) # evt 60\n",
    "SubWrite([1,1], 50, 513, \"Rst_\", 0, JobName='JobActionGC13mmResinMuon.sh', SubName = 'SubFile_SingleSiPM_Muon', LYSOL=False) # evt 60\n",
    "\n",
    "SubWrite([1,1], 50, 513, \"Rst_\", 0, JobName='JobActionGC1FLResin.sh', SubName = 'SubFile_FL_SiPM_Na', LYSOL=False) # evt 60\n",
    "SubWrite([1,1], 50, 513, \"Rst_\", 0, JobName='JobActionGC1FLResinMuon.sh', SubName = 'SubFile_FL_SiPM_Muon', LYSOL=False) # evt 60\n",
    "\n",
    "SubWrite([1,1], 600, 513, \"Rst_\", 0, JobName='JobActionGC3.sh', SubName = 'SubFile_GC3_SiPM_Na', LYSOL=False) # evt 5\n",
    "SubWrite([1,1], 600, 513, \"Rst_\", 0, JobName='JobActionGC3Muon.sh', SubName = 'SubFile_GC3_SiPM_Muon', LYSOL=False) # evt 5"
   ]
  },
  {
   "cell_type": "markdown",
   "id": "278dd19c-6b65-47f7-9f2e-7f66c3bef03a",
   "metadata": {},
   "source": [
    "# IncrV 1D study"
   ]
  },
  {
   "cell_type": "code",
   "execution_count": 17,
   "id": "b2e0378e-ee30-466a-9e66-70ea6a5e6cdb",
   "metadata": {},
   "outputs": [],
   "source": [
    "def NSGAIIWrite_incrV( V0, Vf, num,  ROOTName, SubName ='SubFile', JobName='JobActionVolIncr.sh', Singularity='+SingularityImage=\"/storage/af/user/greales/SingDir/sandG4Gmsh\"', SiPMS=False, LYSOL=False):\n",
    "            print(\"### Writting Sub File:\")\n",
    "\n",
    "            f = open(\"SubFiles/\"+SubName+\"_VolIncr\"+\".sub\", \"w\")\n",
    "            f.write(\"Universe = vanilla\\n\")\n",
    "            f.write(\"executable = ../../../JobFiles/\"+JobName+\"\\n\")\n",
    "\n",
    "            f.write('arguments =\"-a '+ROOTName+'IncrV_$(var)_$(Cluster)_$(Process)_ -v $(var)')\n",
    "            f.write('\"\\n')\t\n",
    "            \n",
    "            f.write(\"Output  =/storage/af/user/greales/simG4/outputs/OutPost_$(gen)_$(vol)\"+\".out\"+\"\\n\")\n",
    "               \n",
    "            f.write(\"Error   = /storage/af/user/greales/simG4/errors/error_job$(Cluster).out\\n\")\n",
    "            f.write(\"Log     = /storage/af/user/greales/simG4/logs/log_job$(Cluster).out\\n\")\n",
    "            f.write(\"requirements = Machine =!= LastRemoteHost\\n\")\n",
    "            f.write(\"WHEN_TO_TRANSFER_OUTPUT = ON_EXIT_OR_EVICT\\n\")\n",
    "            f.write('+JobQueue = \"Short\"\\n')\n",
    "            f.write(\"+MaxRuntime = 7000\\n\")\n",
    "            f.write(\"+RunAsOwner = True\\n\")\n",
    "            f.write(\"+InteractiveUser = True\\n\")\n",
    "            f.write(\"+SingularityBindCVMFS = True\\n\")\n",
    "            f.write(Singularity+\"\\n\")\n",
    "            f.write(\"x509userproxy = $ENV(X509_USER_PROXY)\\n\")\n",
    "            f.write(\"RequestDisk = 2000000\\n\")\n",
    "            f.write(\"RequestMemory = 2000\\n\")\n",
    "            f.write(\"RequestCpus = 1\\n\")\n",
    "            f.write(\"on_exit_remove = ((ExitBySignal == False) && (ExitCode == 0)) || (JobStatus=?=3)\\n\")\n",
    "            f.write(\"on_exit_hold = (ExitBySignal == True) || (ExitCode != 0)\\n\")\n",
    "            f.write(\"+PeriodicRemove = ((JobStatus =?= 2) && ((MemoryUsage =!= UNDEFINED && MemoryUsage > 2.5*RequestMemory)))\\n\")\n",
    "            f.write(\"should_transfer_files = Yes\\n\")\n",
    "            f.write(\"max_retries = 3\\n\")\n",
    "            \n",
    "            f.write(\"Queue var, \\n\")\n",
    "            indvfeat = np.linspace(V0,Vf,num)\n",
    "            cc=0                \n",
    "            for y in indvfeat:\n",
    "                    cmd=\"\"\n",
    "                    cmd=str(int(y))\n",
    "                    cmd=cmd+\", \"\n",
    "                    f.write(cmd+\"\\n\")\n",
    "                    cc+=1\n",
    "            f.write(\")\\n\")\n",
    "            f.close()\n",
    "            "
   ]
  },
  {
   "cell_type": "code",
   "execution_count": 18,
   "id": "b4a12c8b-fc94-42c1-a89f-7d5de1d3b8ac",
   "metadata": {
    "tags": []
   },
   "outputs": [
    {
     "name": "stdout",
     "output_type": "stream",
     "text": [
      "### Writting Sub File:\n"
     ]
    }
   ],
   "source": [
    "import numpy as np\n",
    "NSGAIIWrite_incrV(25,225,50,'IncrV')"
   ]
  },
  {
   "cell_type": "code",
   "execution_count": null,
   "id": "66f6ca23-5383-414d-949d-2122fff3ab65",
   "metadata": {},
   "outputs": [],
   "source": [
    "NSGAIIWrite_incrV(25,225,50)"
   ]
  },
  {
   "cell_type": "code",
   "execution_count": null,
   "id": "55db56c3-8172-4e7c-b257-f968a19eced9",
   "metadata": {},
   "outputs": [],
   "source": []
  }
 ],
 "metadata": {
  "kernelspec": {
   "display_name": "Python 3 (ipykernel)",
   "language": "python",
   "name": "python3"
  },
  "language_info": {
   "codemirror_mode": {
    "name": "ipython",
    "version": 3
   },
   "file_extension": ".py",
   "mimetype": "text/x-python",
   "name": "python",
   "nbconvert_exporter": "python",
   "pygments_lexer": "ipython3",
   "version": "3.9.16"
  }
 },
 "nbformat": 4,
 "nbformat_minor": 5
}
